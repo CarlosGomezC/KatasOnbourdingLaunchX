{
 "cells": [
  {
   "cell_type": "markdown",
   "metadata": {},
   "source": [
    "Ejercicio 1"
   ]
  },
  {
   "cell_type": "code",
   "execution_count": 10,
   "metadata": {},
   "outputs": [],
   "source": [
    "def reporte(tanque1, tanque2, tanque3):\n",
    "    promedio = (tanque1 + tanque2 + tanque3) / 3\n",
    "    return f'''Reporte de tanques de combustible\n",
    "    Promedio de tanques: {promedio}%\n",
    "    Tanque 1: {tanque1}%\n",
    "    Tanque 2: {tanque2}%\n",
    "    Tanque 3: {tanque3}%\n",
    "    '''"
   ]
  },
  {
   "cell_type": "code",
   "execution_count": 13,
   "metadata": {},
   "outputs": [
    {
     "name": "stdout",
     "output_type": "stream",
     "text": [
      "Reporte de tanques de combustible\n",
      "    Promedio de tanques: 49.0%\n",
      "    Tanque 1: 50%\n",
      "    Tanque 2: 35%\n",
      "    Tanque 3: 62%\n",
      "    \n"
     ]
    }
   ],
   "source": [
    "print(reporte(50, 35, 62))\n"
   ]
  },
  {
   "cell_type": "code",
   "execution_count": 19,
   "metadata": {},
   "outputs": [],
   "source": [
    "def promedio(values):\n",
    "    total = sum(values)\n",
    "    elementos = len(values)\n",
    "    return total / elementos\n",
    "\n",
    "promedio([50, 35, 62]) "
   ]
  },
  {
   "cell_type": "code",
   "execution_count": 24,
   "metadata": {},
   "outputs": [
    {
     "name": "stdout",
     "output_type": "stream",
     "text": [
      "Reporte de tanques de combustible:\n",
      "    Promedio de los tanques: 49.0%\n",
      "    Tanque 1: 50%\n",
      "    Tanque 2: 35%\n",
      "    Tanque 3: 62% \n",
      "    \n"
     ]
    }
   ],
   "source": [
    "def reporte(tanque1, tanque2, tanque3):\n",
    "    return f\"\"\"Reporte de tanques de combustible:\n",
    "    Promedio de los tanques: {promedio([tanque1, tanque2, tanque3])}%\n",
    "    Tanque 1: {tanque1}%\n",
    "    Tanque 2: {tanque2}%\n",
    "    Tanque 3: {tanque3}% \n",
    "    \"\"\"\n",
    "\n",
    "print(reporte(50, 35, 62))"
   ]
  },
  {
   "cell_type": "markdown",
   "metadata": {},
   "source": [
    "Ejercicio 2"
   ]
  },
  {
   "cell_type": "code",
   "execution_count": 11,
   "metadata": {},
   "outputs": [
    {
     "name": "stdout",
     "output_type": "stream",
     "text": [
      "Reporte de la misión\n",
      "    Destino a:Luna\n",
      "    Tiempo de la misión: 90 minutos\n",
      "    Combustible : 300000 litros\n",
      "    \n"
     ]
    }
   ],
   "source": [
    "def reporte(tiempo, destino, combustible_izquierdo):\n",
    "    return f\"\"\"Reporte de la misión\n",
    "    Destino a:{destino}\n",
    "    Tiempo de la misión: {tiempo} minutos\n",
    "    Combustible : {combustible_izquierdo} litros\n",
    "    \"\"\"\n",
    "\n",
    "print(reporte(90, \"Luna\", 300000 ))"
   ]
  },
  {
   "cell_type": "code",
   "execution_count": 9,
   "metadata": {},
   "outputs": [
    {
     "name": "stdout",
     "output_type": "stream",
     "text": [
      "Reporte de la misión\n",
      "    Destino a: Luna\n",
      "    Tiempo de la misión: 90 minutos\n",
      "    Combustible: 300000 litros\n",
      "    \n"
     ]
    }
   ],
   "source": [
    "def reporte(destino, *tiempo,  **combustible):\n",
    "    return f\"\"\"Reporte de la misión\n",
    "    Destino a: {destino}\n",
    "    Tiempo de la misión: {sum(tiempo)} minutos\n",
    "    Combustible: {sum(combustible.values())} litros\n",
    "    \"\"\"\n",
    "\n",
    "print(reporte(\"Luna\", 15, 10, 65, tanque1 = 100000, tanque2 = 200000))"
   ]
  },
  {
   "cell_type": "code",
   "execution_count": 18,
   "metadata": {},
   "outputs": [
    {
     "name": "stdout",
     "output_type": "stream",
     "text": [
      "Reporte de la misión\n",
      "    Misión a: Luna\n",
      "    tiempo de la misión: 90 minutes\n",
      "    Combustible: 500000\n",
      "    tanque1 --> 300000 litros \n",
      "tanque2 --> 200000 litros \n",
      "\n"
     ]
    }
   ],
   "source": [
    "def reporte(destino, *tiempo, **combustible):\n",
    "    reporte_combustible = f\"\"\"Reporte de la misión\n",
    "    Misión a: {destino}\n",
    "    tiempo de la misión: {sum(tiempo)} minutes\n",
    "    Combustible: {sum(combustible.values())}\n",
    "    \"\"\"\n",
    "    for nombretanques, litros in combustible.items():\n",
    "        reporte_combustible += f\"{nombretanques} --> {litros} litros \\n\"\n",
    "    return reporte_combustible\n",
    "\n",
    "print(reporte(\"Luna\", 15, 10, 65, tanque1 = 300000, tanque2 = 200000))"
   ]
  }
 ],
 "metadata": {
  "interpreter": {
   "hash": "b13c0690c134a0073c2e9ece94d91abe157176dfcd9324ad754a86c5930d106d"
  },
  "kernelspec": {
   "display_name": "Python 3.9.10 64-bit (windows store)",
   "language": "python",
   "name": "python3"
  },
  "language_info": {
   "codemirror_mode": {
    "name": "ipython",
    "version": 3
   },
   "file_extension": ".py",
   "mimetype": "text/x-python",
   "name": "python",
   "nbconvert_exporter": "python",
   "pygments_lexer": "ipython3",
   "version": "3.9.10"
  },
  "orig_nbformat": 4
 },
 "nbformat": 4,
 "nbformat_minor": 2
}
