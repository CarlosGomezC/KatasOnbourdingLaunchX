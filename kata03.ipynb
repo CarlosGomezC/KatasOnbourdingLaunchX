{
 "cells": [
  {
   "cell_type": "markdown",
   "metadata": {},
   "source": [
    "If, else"
   ]
  },
  {
   "cell_type": "code",
   "execution_count": 3,
   "metadata": {},
   "outputs": [
    {
     "name": "stdout",
     "output_type": "stream",
     "text": [
      "¡Un asteroide se acerca peligrosamente a la tierra!\n"
     ]
    }
   ],
   "source": [
    "velocidad_asteroide= 49\n",
    "if velocidad_asteroide > 25:\n",
    "    print(\"¡Un asteroide se acerca peligrosamente a la tierra!\")\n",
    "else:\n",
    "    print(\"No hay de que preocuparse\")"
   ]
  },
  {
   "cell_type": "markdown",
   "metadata": {},
   "source": [
    "If, else y elif"
   ]
  },
  {
   "cell_type": "code",
   "execution_count": 5,
   "metadata": {},
   "outputs": [
    {
     "name": "stdout",
     "output_type": "stream",
     "text": [
      "No hay nada que ver\n"
     ]
    }
   ],
   "source": [
    "velocidad_asteroide = 19\n",
    "\n",
    "if velocidad_asteroide > 20:\n",
    "    print(\"¡Hay una luz brillante en el cielo!\")\n",
    "elif velocidad_asteroide == 20:\n",
    "    print(\"¡Hay una luz brillante en el cielo!\")\n",
    "else:\n",
    "    print(\"No hay nada que ver\")"
   ]
  },
  {
   "cell_type": "markdown",
   "metadata": {},
   "source": [
    "Operadores OR, AND"
   ]
  },
  {
   "cell_type": "code",
   "execution_count": 2,
   "metadata": {},
   "outputs": [
    {
     "name": "stdout",
     "output_type": "stream",
     "text": [
      "¡hay una luz en el cielo!\n"
     ]
    }
   ],
   "source": [
    "\n",
    "velocidad = 27\n",
    "tamano_asteroide = 25\n",
    "\n",
    "if tamano_asteroide > 25 and velocidad > 25:\n",
    "    print(\"¡Un asteroide se acerca de manera peligrosa a la Tierra!\")\n",
    "elif tamano_asteroide < 25:\n",
    "    print(\"Nada de que alarmarse\") \n",
    "elif velocidad > 20:\n",
    "    print(\"¡hay una luz en el cielo!\")\n",
    "else:\n",
    "    print(\"No hay nada que ver\")\n",
    "\n",
    "\n"
   ]
  }
 ],
 "metadata": {
  "interpreter": {
   "hash": "b13c0690c134a0073c2e9ece94d91abe157176dfcd9324ad754a86c5930d106d"
  },
  "kernelspec": {
   "display_name": "Python 3.9.10 64-bit (windows store)",
   "language": "python",
   "name": "python3"
  },
  "language_info": {
   "codemirror_mode": {
    "name": "ipython",
    "version": 3
   },
   "file_extension": ".py",
   "mimetype": "text/x-python",
   "name": "python",
   "nbconvert_exporter": "python",
   "pygments_lexer": "ipython3",
   "version": "3.9.10"
  },
  "orig_nbformat": 4
 },
 "nbformat": 4,
 "nbformat_minor": 2
}
