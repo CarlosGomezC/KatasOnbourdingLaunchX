{
 "cells": [
  {
   "cell_type": "markdown",
   "metadata": {},
   "source": [
    "Ejercicio 1"
   ]
  },
  {
   "cell_type": "code",
   "execution_count": 3,
   "metadata": {},
   "outputs": [],
   "source": [
    "planeta_tierra = 149597870\n",
    "planeta_jupiter = 778547200"
   ]
  },
  {
   "cell_type": "code",
   "execution_count": 4,
   "metadata": {},
   "outputs": [],
   "source": [
    "distancia = planeta_jupiter - planeta_tierra"
   ]
  },
  {
   "cell_type": "code",
   "execution_count": 5,
   "metadata": {},
   "outputs": [
    {
     "name": "stdout",
     "output_type": "stream",
     "text": [
      "La distancia entre la Tierra y Jupiter es de 628949330 km\n"
     ]
    }
   ],
   "source": [
    "print(f\"La distancia entre la Tierra y Jupiter es de {distancia} km\")"
   ]
  },
  {
   "cell_type": "code",
   "execution_count": 6,
   "metadata": {},
   "outputs": [],
   "source": [
    "distancia_millas = distancia * 0.621"
   ]
  },
  {
   "cell_type": "code",
   "execution_count": 7,
   "metadata": {},
   "outputs": [
    {
     "name": "stdout",
     "output_type": "stream",
     "text": [
      "La distancia en millas es de 390577533.93\n"
     ]
    }
   ],
   "source": [
    "print(f\"La distancia en millas es de {distancia_millas}\")"
   ]
  },
  {
   "cell_type": "markdown",
   "metadata": {},
   "source": [
    "Ejercicio 2"
   ]
  },
  {
   "cell_type": "code",
   "execution_count": 9,
   "metadata": {},
   "outputs": [],
   "source": [
    "venus = int(input(\"Ingresa la distancia de Venus respecto al Sol \"))\n",
    "marte = int(input(\"Ingresa la distancia de Marte respecto al Sol\"))"
   ]
  },
  {
   "cell_type": "code",
   "execution_count": 10,
   "metadata": {},
   "outputs": [],
   "source": [
    "distancia_km = marte - venus"
   ]
  },
  {
   "cell_type": "code",
   "execution_count": 11,
   "metadata": {},
   "outputs": [
    {
     "name": "stdout",
     "output_type": "stream",
     "text": [
      "La distancia entre Venus y Marte es de 119700000 km\n"
     ]
    }
   ],
   "source": [
    "print(f\"La distancia entre Venus y Marte es de {distancia_km} km\")"
   ]
  },
  {
   "cell_type": "code",
   "execution_count": 13,
   "metadata": {},
   "outputs": [
    {
     "name": "stdout",
     "output_type": "stream",
     "text": [
      "Y la distancie em millas es de 74333700.0 millas\n"
     ]
    }
   ],
   "source": [
    "distancia_mi = distancia_km * 0.621\n",
    "print(f\"Y la distancie em millas es de {distancia_mi} millas\")"
   ]
  }
 ],
 "metadata": {
  "interpreter": {
   "hash": "b13c0690c134a0073c2e9ece94d91abe157176dfcd9324ad754a86c5930d106d"
  },
  "kernelspec": {
   "display_name": "Python 3.9.10 64-bit (windows store)",
   "language": "python",
   "name": "python3"
  },
  "language_info": {
   "codemirror_mode": {
    "name": "ipython",
    "version": 3
   },
   "file_extension": ".py",
   "mimetype": "text/x-python",
   "name": "python",
   "nbconvert_exporter": "python",
   "pygments_lexer": "ipython3",
   "version": "3.9.10"
  },
  "orig_nbformat": 4
 },
 "nbformat": 4,
 "nbformat_minor": 2
}
